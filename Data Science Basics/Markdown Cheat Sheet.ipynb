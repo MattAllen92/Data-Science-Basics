{
 "cells": [
  {
   "cell_type": "markdown",
   "metadata": {},
   "source": [
    "# First Jupyter Notebook\n",
    "## Level 2 Heading\n",
    "### Level 3 Heading\n",
    "#### Level 4 Heading\n",
    "##### Level 5 Heading\n",
    "###### No Lower... (headings can be used in markdown cells too)"
   ]
  },
  {
   "cell_type": "markdown",
   "metadata": {},
   "source": [
    "Markdown Cells\n",
    "These allow you to write standard rich text with relevant formatting, see below.\n",
    "\n",
    "**bold** or __bold__ (note: the empty line between this and the one above is required to separate paragraphs, otherwise they will be written on a continuous line)\n",
    "\n",
    "*italic* or _italic_\n",
    "\n",
    "[link name](www.hyperlinks.com \"Link Title\") <- the \"Link Title\" will appear as a tooltip\n",
    "\n",
    "Bulleted Lists\n",
    "* Bullet 1\n",
    "* Bullet 2\n",
    "    * Bullet 2a\n",
    "    * Bullet 2b\n",
    "        * Bullet 2bi\n",
    "\n",
    "Numbered Lists\n",
    "1. Num 1\n",
    "2. Num 2\n",
    "3. Etc...\n",
    "\n",
    "> Quotes work like this... <cite>Matt Allen</cite>"
   ]
  }
 ],
 "metadata": {
  "kernelspec": {
   "display_name": "Python 2",
   "language": "python",
   "name": "python2"
  },
  "language_info": {
   "codemirror_mode": {
    "name": "ipython",
    "version": 2
   },
   "file_extension": ".py",
   "mimetype": "text/x-python",
   "name": "python",
   "nbconvert_exporter": "python",
   "pygments_lexer": "ipython2",
   "version": "2.7.13"
  }
 },
 "nbformat": 4,
 "nbformat_minor": 0
}
